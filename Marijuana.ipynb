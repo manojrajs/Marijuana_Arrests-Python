{
 "cells": [
  {
   "cell_type": "code",
   "execution_count": 1,
   "id": "a4e98328",
   "metadata": {},
   "outputs": [],
   "source": [
    "import pandas as pd, numpy as np, matplotlib.pyplot as plt,seaborn as sns"
   ]
  },
  {
   "cell_type": "code",
   "execution_count": 2,
   "id": "53dd1adb",
   "metadata": {},
   "outputs": [
    {
     "data": {
      "text/html": [
       "<div>\n",
       "<style scoped>\n",
       "    .dataframe tbody tr th:only-of-type {\n",
       "        vertical-align: middle;\n",
       "    }\n",
       "\n",
       "    .dataframe tbody tr th {\n",
       "        vertical-align: top;\n",
       "    }\n",
       "\n",
       "    .dataframe thead th {\n",
       "        text-align: right;\n",
       "    }\n",
       "</style>\n",
       "<table border=\"1\" class=\"dataframe\">\n",
       "  <thead>\n",
       "    <tr style=\"text-align: right;\">\n",
       "      <th></th>\n",
       "      <th>TYPE</th>\n",
       "      <th>ADULT_JUVENILE</th>\n",
       "      <th>YEAR</th>\n",
       "      <th>DATETIME</th>\n",
       "      <th>CCN</th>\n",
       "      <th>AGE</th>\n",
       "      <th>OFFENSE_DISTRICT</th>\n",
       "      <th>OFFENSE_PSA</th>\n",
       "      <th>OFFENSE_BLOCKX</th>\n",
       "      <th>OFFENSE_BLOCKY</th>\n",
       "      <th>...</th>\n",
       "      <th>ADDRESS</th>\n",
       "      <th>ARREST_BLOCKX</th>\n",
       "      <th>ARREST_BLOCKY</th>\n",
       "      <th>GIS_ID</th>\n",
       "      <th>CREATOR</th>\n",
       "      <th>CREATED</th>\n",
       "      <th>EDITOR</th>\n",
       "      <th>EDITED</th>\n",
       "      <th>OBJECTID</th>\n",
       "      <th>GLOBALID</th>\n",
       "    </tr>\n",
       "  </thead>\n",
       "  <tbody>\n",
       "    <tr>\n",
       "      <th>0</th>\n",
       "      <td>Possession</td>\n",
       "      <td>Adult</td>\n",
       "      <td>2012</td>\n",
       "      <td>2012/01/01 06:00:00+00</td>\n",
       "      <td>b';\\xc8k~\\xa4iJ'</td>\n",
       "      <td>20.0</td>\n",
       "      <td>5D</td>\n",
       "      <td>501.0</td>\n",
       "      <td>399700.0</td>\n",
       "      <td>137900.0</td>\n",
       "      <td>...</td>\n",
       "      <td>FLORIDA AVE NE</td>\n",
       "      <td>401400.0</td>\n",
       "      <td>136900.0</td>\n",
       "      <td>MARIJUANA_ARRESTS_1</td>\n",
       "      <td>JLAY</td>\n",
       "      <td>2022/10/18 21:51:23+00</td>\n",
       "      <td>JLAY</td>\n",
       "      <td>2022/10/18 21:51:23+00</td>\n",
       "      <td>12481</td>\n",
       "      <td>{4654D30A-5B56-4E19-8FC2-B19CC723C747}</td>\n",
       "    </tr>\n",
       "    <tr>\n",
       "      <th>1</th>\n",
       "      <td>Possession</td>\n",
       "      <td>Adult</td>\n",
       "      <td>2012</td>\n",
       "      <td>2012/01/01 06:00:00+00</td>\n",
       "      <td>b';\\xc8k~\\xa4iJ'</td>\n",
       "      <td>23.0</td>\n",
       "      <td>5D</td>\n",
       "      <td>501.0</td>\n",
       "      <td>399700.0</td>\n",
       "      <td>137900.0</td>\n",
       "      <td>...</td>\n",
       "      <td>FLORIDA AVE NE</td>\n",
       "      <td>401400.0</td>\n",
       "      <td>136900.0</td>\n",
       "      <td>MARIJUANA_ARRESTS_2</td>\n",
       "      <td>JLAY</td>\n",
       "      <td>2022/10/18 21:51:23+00</td>\n",
       "      <td>JLAY</td>\n",
       "      <td>2022/10/18 21:51:23+00</td>\n",
       "      <td>12482</td>\n",
       "      <td>{1C0EBA86-27EC-4B8E-8ABB-6EFFF03A0AA2}</td>\n",
       "    </tr>\n",
       "    <tr>\n",
       "      <th>2</th>\n",
       "      <td>Possession</td>\n",
       "      <td>Adult</td>\n",
       "      <td>2012</td>\n",
       "      <td>2012/01/01 06:00:00+00</td>\n",
       "      <td>b't6\\xa0\\xac\\xec`\\xa4'</td>\n",
       "      <td>46.0</td>\n",
       "      <td>7D</td>\n",
       "      <td>707.0</td>\n",
       "      <td>399700.0</td>\n",
       "      <td>130600.0</td>\n",
       "      <td>...</td>\n",
       "      <td>3300 BLOCK OF BROTHERS PL SE</td>\n",
       "      <td>399700.0</td>\n",
       "      <td>130600.0</td>\n",
       "      <td>MARIJUANA_ARRESTS_3</td>\n",
       "      <td>JLAY</td>\n",
       "      <td>2022/10/18 21:51:23+00</td>\n",
       "      <td>JLAY</td>\n",
       "      <td>2022/10/18 21:51:23+00</td>\n",
       "      <td>12483</td>\n",
       "      <td>{88080D68-CFA3-41E6-AA69-5DB7F950A134}</td>\n",
       "    </tr>\n",
       "    <tr>\n",
       "      <th>3</th>\n",
       "      <td>Possession</td>\n",
       "      <td>Adult</td>\n",
       "      <td>2012</td>\n",
       "      <td>2012/01/01 09:35:00+00</td>\n",
       "      <td>b'\\xbe\\x1d\\xa7\\xf5\\xffWx'</td>\n",
       "      <td>30.0</td>\n",
       "      <td>6D</td>\n",
       "      <td>605.0</td>\n",
       "      <td>403300.0</td>\n",
       "      <td>134500.0</td>\n",
       "      <td>...</td>\n",
       "      <td>700 BLOCK OF 32ND ST SE</td>\n",
       "      <td>NaN</td>\n",
       "      <td>NaN</td>\n",
       "      <td>MARIJUANA_ARRESTS_4</td>\n",
       "      <td>JLAY</td>\n",
       "      <td>2022/10/18 21:51:23+00</td>\n",
       "      <td>JLAY</td>\n",
       "      <td>2022/10/18 21:51:23+00</td>\n",
       "      <td>12484</td>\n",
       "      <td>{7769980A-5F36-4B3C-91CF-D1A3A94CE52E}</td>\n",
       "    </tr>\n",
       "    <tr>\n",
       "      <th>4</th>\n",
       "      <td>Possession with intent to distribute</td>\n",
       "      <td>Adult</td>\n",
       "      <td>2012</td>\n",
       "      <td>2012/01/02 19:40:00+00</td>\n",
       "      <td>b'\\xbb\\xc0\\x8e\\x94\\x81\\xac\\xcd'</td>\n",
       "      <td>29.0</td>\n",
       "      <td>6D</td>\n",
       "      <td>604.0</td>\n",
       "      <td>406400.0</td>\n",
       "      <td>135300.0</td>\n",
       "      <td>...</td>\n",
       "      <td>5300 BLOCK OF B ST SE</td>\n",
       "      <td>NaN</td>\n",
       "      <td>NaN</td>\n",
       "      <td>MARIJUANA_ARRESTS_5</td>\n",
       "      <td>JLAY</td>\n",
       "      <td>2022/10/18 21:51:23+00</td>\n",
       "      <td>JLAY</td>\n",
       "      <td>2022/10/18 21:51:23+00</td>\n",
       "      <td>12485</td>\n",
       "      <td>{5D5BEE85-DF16-41A1-BB49-0D16D0EE1320}</td>\n",
       "    </tr>\n",
       "  </tbody>\n",
       "</table>\n",
       "<p>5 rows × 27 columns</p>\n",
       "</div>"
      ],
      "text/plain": [
       "                                   TYPE ADULT_JUVENILE  YEAR  \\\n",
       "0                            Possession          Adult  2012   \n",
       "1                            Possession          Adult  2012   \n",
       "2                            Possession          Adult  2012   \n",
       "3                            Possession          Adult  2012   \n",
       "4  Possession with intent to distribute          Adult  2012   \n",
       "\n",
       "                 DATETIME                              CCN   AGE  \\\n",
       "0  2012/01/01 06:00:00+00                 b';\\xc8k~\\xa4iJ'  20.0   \n",
       "1  2012/01/01 06:00:00+00                 b';\\xc8k~\\xa4iJ'  23.0   \n",
       "2  2012/01/01 06:00:00+00           b't6\\xa0\\xac\\xec`\\xa4'  46.0   \n",
       "3  2012/01/01 09:35:00+00        b'\\xbe\\x1d\\xa7\\xf5\\xffWx'  30.0   \n",
       "4  2012/01/02 19:40:00+00  b'\\xbb\\xc0\\x8e\\x94\\x81\\xac\\xcd'  29.0   \n",
       "\n",
       "  OFFENSE_DISTRICT  OFFENSE_PSA  OFFENSE_BLOCKX  OFFENSE_BLOCKY  ...  \\\n",
       "0               5D        501.0        399700.0        137900.0  ...   \n",
       "1               5D        501.0        399700.0        137900.0  ...   \n",
       "2               7D        707.0        399700.0        130600.0  ...   \n",
       "3               6D        605.0        403300.0        134500.0  ...   \n",
       "4               6D        604.0        406400.0        135300.0  ...   \n",
       "\n",
       "                        ADDRESS ARREST_BLOCKX ARREST_BLOCKY  \\\n",
       "0                FLORIDA AVE NE      401400.0      136900.0   \n",
       "1                FLORIDA AVE NE      401400.0      136900.0   \n",
       "2  3300 BLOCK OF BROTHERS PL SE      399700.0      130600.0   \n",
       "3       700 BLOCK OF 32ND ST SE           NaN           NaN   \n",
       "4         5300 BLOCK OF B ST SE           NaN           NaN   \n",
       "\n",
       "                GIS_ID CREATOR                 CREATED EDITOR  \\\n",
       "0  MARIJUANA_ARRESTS_1    JLAY  2022/10/18 21:51:23+00   JLAY   \n",
       "1  MARIJUANA_ARRESTS_2    JLAY  2022/10/18 21:51:23+00   JLAY   \n",
       "2  MARIJUANA_ARRESTS_3    JLAY  2022/10/18 21:51:23+00   JLAY   \n",
       "3  MARIJUANA_ARRESTS_4    JLAY  2022/10/18 21:51:23+00   JLAY   \n",
       "4  MARIJUANA_ARRESTS_5    JLAY  2022/10/18 21:51:23+00   JLAY   \n",
       "\n",
       "                   EDITED  OBJECTID                                GLOBALID  \n",
       "0  2022/10/18 21:51:23+00     12481  {4654D30A-5B56-4E19-8FC2-B19CC723C747}  \n",
       "1  2022/10/18 21:51:23+00     12482  {1C0EBA86-27EC-4B8E-8ABB-6EFFF03A0AA2}  \n",
       "2  2022/10/18 21:51:23+00     12483  {88080D68-CFA3-41E6-AA69-5DB7F950A134}  \n",
       "3  2022/10/18 21:51:23+00     12484  {7769980A-5F36-4B3C-91CF-D1A3A94CE52E}  \n",
       "4  2022/10/18 21:51:23+00     12485  {5D5BEE85-DF16-41A1-BB49-0D16D0EE1320}  \n",
       "\n",
       "[5 rows x 27 columns]"
      ]
     },
     "execution_count": 2,
     "metadata": {},
     "output_type": "execute_result"
    }
   ],
   "source": [
    "df0=pd.read_csv(r\"Marijuana_Arrests.csv\")\n",
    "df0.head()"
   ]
  },
  {
   "cell_type": "code",
   "execution_count": 3,
   "id": "1c6b5cde",
   "metadata": {},
   "outputs": [
    {
     "name": "stdout",
     "output_type": "stream",
     "text": [
      "<class 'pandas.core.frame.DataFrame'>\n",
      "RangeIndex: 13063 entries, 0 to 13062\n",
      "Data columns (total 27 columns):\n",
      " #   Column              Non-Null Count  Dtype  \n",
      "---  ------              --------------  -----  \n",
      " 0   TYPE                13063 non-null  object \n",
      " 1   ADULT_JUVENILE      13063 non-null  object \n",
      " 2   YEAR                13063 non-null  int64  \n",
      " 3   DATETIME            13063 non-null  object \n",
      " 4   CCN                 12510 non-null  object \n",
      " 5   AGE                 12466 non-null  float64\n",
      " 6   OFFENSE_DISTRICT    13063 non-null  object \n",
      " 7   OFFENSE_PSA         13036 non-null  float64\n",
      " 8   OFFENSE_BLOCKX      12461 non-null  float64\n",
      " 9   OFFENSE_BLOCKY      12461 non-null  float64\n",
      " 10  DEFENDANT_PSA       12328 non-null  object \n",
      " 11  DEFENDANT_DISTRICT  12363 non-null  object \n",
      " 12  RACE                12510 non-null  object \n",
      " 13  ETHNICITY           12510 non-null  object \n",
      " 14  SEX                 12510 non-null  object \n",
      " 15  CATEGORY            13063 non-null  object \n",
      " 16  DESCRIPTION         13063 non-null  object \n",
      " 17  ADDRESS             12481 non-null  object \n",
      " 18  ARREST_BLOCKX       12093 non-null  float64\n",
      " 19  ARREST_BLOCKY       12093 non-null  float64\n",
      " 20  GIS_ID              13063 non-null  object \n",
      " 21  CREATOR             13063 non-null  object \n",
      " 22  CREATED             13063 non-null  object \n",
      " 23  EDITOR              13063 non-null  object \n",
      " 24  EDITED              13063 non-null  object \n",
      " 25  OBJECTID            13063 non-null  int64  \n",
      " 26  GLOBALID            13063 non-null  object \n",
      "dtypes: float64(6), int64(2), object(19)\n",
      "memory usage: 2.7+ MB\n"
     ]
    }
   ],
   "source": [
    "df0.info()"
   ]
  },
  {
   "cell_type": "code",
   "execution_count": 4,
   "id": "ec02615b",
   "metadata": {},
   "outputs": [],
   "source": [
    "df0.drop(columns=([\"GLOBALID\",\"GIS_ID\",\"OBJECTID\",\"CATEGORY\",\"DEFENDANT_PSA\",\"DEFENDANT_DISTRICT\",\"CREATOR\",\"CREATED\",\"EDITOR\",\"EDITED\"]),inplace=True)"
   ]
  },
  {
   "cell_type": "code",
   "execution_count": 5,
   "id": "42478924",
   "metadata": {},
   "outputs": [
    {
     "name": "stdout",
     "output_type": "stream",
     "text": [
      "<class 'pandas.core.frame.DataFrame'>\n",
      "RangeIndex: 13063 entries, 0 to 13062\n",
      "Data columns (total 17 columns):\n",
      " #   Column            Non-Null Count  Dtype  \n",
      "---  ------            --------------  -----  \n",
      " 0   TYPE              13063 non-null  object \n",
      " 1   ADULT_JUVENILE    13063 non-null  object \n",
      " 2   YEAR              13063 non-null  int64  \n",
      " 3   DATETIME          13063 non-null  object \n",
      " 4   CCN               12510 non-null  object \n",
      " 5   AGE               12466 non-null  float64\n",
      " 6   OFFENSE_DISTRICT  13063 non-null  object \n",
      " 7   OFFENSE_PSA       13036 non-null  float64\n",
      " 8   OFFENSE_BLOCKX    12461 non-null  float64\n",
      " 9   OFFENSE_BLOCKY    12461 non-null  float64\n",
      " 10  RACE              12510 non-null  object \n",
      " 11  ETHNICITY         12510 non-null  object \n",
      " 12  SEX               12510 non-null  object \n",
      " 13  DESCRIPTION       13063 non-null  object \n",
      " 14  ADDRESS           12481 non-null  object \n",
      " 15  ARREST_BLOCKX     12093 non-null  float64\n",
      " 16  ARREST_BLOCKY     12093 non-null  float64\n",
      "dtypes: float64(6), int64(1), object(10)\n",
      "memory usage: 1.7+ MB\n"
     ]
    }
   ],
   "source": [
    "df0.info()"
   ]
  },
  {
   "cell_type": "code",
   "execution_count": 6,
   "id": "e4d6b806",
   "metadata": {},
   "outputs": [],
   "source": [
    "df0[\"DATETIME\"] = pd.to_datetime(df0.DATETIME)"
   ]
  },
  {
   "cell_type": "code",
   "execution_count": 7,
   "id": "c7b0b32f",
   "metadata": {},
   "outputs": [],
   "source": [
    "df0[\"TYPE\"] = df0.TYPE.astype(\"category\")"
   ]
  },
  {
   "cell_type": "code",
   "execution_count": 8,
   "id": "f3b59070",
   "metadata": {},
   "outputs": [
    {
     "name": "stdout",
     "output_type": "stream",
     "text": [
      "<class 'pandas.core.frame.DataFrame'>\n",
      "RangeIndex: 13063 entries, 0 to 13062\n",
      "Data columns (total 17 columns):\n",
      " #   Column            Non-Null Count  Dtype              \n",
      "---  ------            --------------  -----              \n",
      " 0   TYPE              13063 non-null  category           \n",
      " 1   ADULT_JUVENILE    13063 non-null  object             \n",
      " 2   YEAR              13063 non-null  int64              \n",
      " 3   DATETIME          13063 non-null  datetime64[ns, UTC]\n",
      " 4   CCN               12510 non-null  object             \n",
      " 5   AGE               12466 non-null  float64            \n",
      " 6   OFFENSE_DISTRICT  13063 non-null  object             \n",
      " 7   OFFENSE_PSA       13036 non-null  float64            \n",
      " 8   OFFENSE_BLOCKX    12461 non-null  float64            \n",
      " 9   OFFENSE_BLOCKY    12461 non-null  float64            \n",
      " 10  RACE              12510 non-null  object             \n",
      " 11  ETHNICITY         12510 non-null  object             \n",
      " 12  SEX               12510 non-null  object             \n",
      " 13  DESCRIPTION       13063 non-null  object             \n",
      " 14  ADDRESS           12481 non-null  object             \n",
      " 15  ARREST_BLOCKX     12093 non-null  float64            \n",
      " 16  ARREST_BLOCKY     12093 non-null  float64            \n",
      "dtypes: category(1), datetime64[ns, UTC](1), float64(6), int64(1), object(8)\n",
      "memory usage: 1.6+ MB\n"
     ]
    }
   ],
   "source": [
    "df0.info()"
   ]
  },
  {
   "cell_type": "code",
   "execution_count": 9,
   "id": "5dd74f58",
   "metadata": {},
   "outputs": [
    {
     "data": {
      "text/plain": [
       "(13063, 17)"
      ]
     },
     "execution_count": 9,
     "metadata": {},
     "output_type": "execute_result"
    }
   ],
   "source": [
    "df0.shape"
   ]
  },
  {
   "cell_type": "code",
   "execution_count": 10,
   "id": "dd068bdf",
   "metadata": {},
   "outputs": [
    {
     "data": {
      "text/plain": [
       "TYPE                0.000000\n",
       "ADULT_JUVENILE      0.000000\n",
       "YEAR                0.000000\n",
       "DATETIME            0.000000\n",
       "CCN                 4.233331\n",
       "AGE                 4.570160\n",
       "OFFENSE_DISTRICT    0.000000\n",
       "OFFENSE_PSA         0.206691\n",
       "OFFENSE_BLOCKX      4.608436\n",
       "OFFENSE_BLOCKY      4.608436\n",
       "RACE                4.233331\n",
       "ETHNICITY           4.233331\n",
       "SEX                 4.233331\n",
       "DESCRIPTION         0.000000\n",
       "ADDRESS             4.455332\n",
       "ARREST_BLOCKX       7.425553\n",
       "ARREST_BLOCKY       7.425553\n",
       "dtype: float64"
      ]
     },
     "execution_count": 10,
     "metadata": {},
     "output_type": "execute_result"
    }
   ],
   "source": [
    "100*(df0.isnull().sum()/len(df0.index))"
   ]
  },
  {
   "cell_type": "code",
   "execution_count": 11,
   "id": "279b38fa",
   "metadata": {},
   "outputs": [],
   "source": [
    "df0 = df0[~(df0.isnull().sum(axis=1)>5)]"
   ]
  },
  {
   "cell_type": "code",
   "execution_count": 12,
   "id": "dcaadb89",
   "metadata": {},
   "outputs": [
    {
     "data": {
      "text/plain": [
       "(12509, 17)"
      ]
     },
     "execution_count": 12,
     "metadata": {},
     "output_type": "execute_result"
    }
   ],
   "source": [
    "df0.shape"
   ]
  },
  {
   "cell_type": "code",
   "execution_count": 13,
   "id": "ad538edc",
   "metadata": {},
   "outputs": [
    {
     "data": {
      "text/plain": [
       "TYPE                0.000000\n",
       "ADULT_JUVENILE      0.000000\n",
       "YEAR                0.000000\n",
       "DATETIME            0.000000\n",
       "CCN                 0.000000\n",
       "AGE                 0.343752\n",
       "OFFENSE_DISTRICT    0.000000\n",
       "OFFENSE_PSA         0.175873\n",
       "OFFENSE_BLOCKX      0.383724\n",
       "OFFENSE_BLOCKY      0.383724\n",
       "RACE                0.000000\n",
       "ETHNICITY           0.000000\n",
       "SEX                 0.000000\n",
       "DESCRIPTION         0.000000\n",
       "ADDRESS             0.223839\n",
       "ARREST_BLOCKX       3.325606\n",
       "ARREST_BLOCKY       3.325606\n",
       "dtype: float64"
      ]
     },
     "execution_count": 13,
     "metadata": {},
     "output_type": "execute_result"
    }
   ],
   "source": [
    "100*(df0.isnull().sum()/len(df0.index))"
   ]
  },
  {
   "cell_type": "code",
   "execution_count": 14,
   "id": "7d9be818",
   "metadata": {},
   "outputs": [
    {
     "data": {
      "image/png": "[encoded data removed]",
      "text/plain": [
       "<Figure size 640x480 with 1 Axes>"
      ]
     },
     "metadata": {},
     "output_type": "display_data"
    }
   ],
   "source": [
    "df0.AGE.plot.box()\n",
    "plt.show()"
   ]
  },
  {
   "cell_type": "code",
   "execution_count": 15,
   "id": "97011d8f",
   "metadata": {
    "scrolled": true
   },
   "outputs": [],
   "source": [
    "df0 = df0[~(df0[\"AGE\"]>80)]"
   ]
  },
  {
   "cell_type": "code",
   "execution_count": 16,
   "id": "8e5d6903",
   "metadata": {},
   "outputs": [
    {
     "data": {
      "image/png": "[encoded data removed]",
      "text/plain": [
       "<Figure size 640x480 with 1 Axes>"
      ]
     },
     "metadata": {},
     "output_type": "display_data"
    }
   ],
   "source": [
    "df0.AGE.plot.box()\n",
    "plt.show()"
   ]
  },
  {
   "cell_type": "code",
   "execution_count": 17,
   "id": "253a8b3c",
   "metadata": {},
   "outputs": [],
   "source": [
    "df0[\"Age_range\"] = pd.cut(df0[\"AGE\"],bins=[0,21,41,61,100],labels=[\"<20\",\"20-40\",\"40-60\",\"60+\"])"
   ]
  },
  {
   "cell_type": "code",
   "execution_count": 18,
   "id": "9ace2fc3",
   "metadata": {},
   "outputs": [],
   "source": [
    "df0[\"Age_range\"] = df0[\"Age_range\"].astype(\"category\")"
   ]
  },
  {
   "cell_type": "code",
   "execution_count": 19,
   "id": "a055a393",
   "metadata": {},
   "outputs": [
    {
     "name": "stdout",
     "output_type": "stream",
     "text": [
      "<class 'pandas.core.frame.DataFrame'>\n",
      "Int64Index: 12508 entries, 0 to 13033\n",
      "Data columns (total 18 columns):\n",
      " #   Column            Non-Null Count  Dtype              \n",
      "---  ------            --------------  -----              \n",
      " 0   TYPE              12508 non-null  category           \n",
      " 1   ADULT_JUVENILE    12508 non-null  object             \n",
      " 2   YEAR              12508 non-null  int64              \n",
      " 3   DATETIME          12508 non-null  datetime64[ns, UTC]\n",
      " 4   CCN               12508 non-null  object             \n",
      " 5   AGE               12465 non-null  float64            \n",
      " 6   OFFENSE_DISTRICT  12508 non-null  object             \n",
      " 7   OFFENSE_PSA       12486 non-null  float64            \n",
      " 8   OFFENSE_BLOCKX    12460 non-null  float64            \n",
      " 9   OFFENSE_BLOCKY    12460 non-null  float64            \n",
      " 10  RACE              12508 non-null  object             \n",
      " 11  ETHNICITY         12508 non-null  object             \n",
      " 12  SEX               12508 non-null  object             \n",
      " 13  DESCRIPTION       12508 non-null  object             \n",
      " 14  ADDRESS           12480 non-null  object             \n",
      " 15  ARREST_BLOCKX     12092 non-null  float64            \n",
      " 16  ARREST_BLOCKY     12092 non-null  float64            \n",
      " 17  Age_range         12465 non-null  category           \n",
      "dtypes: category(2), datetime64[ns, UTC](1), float64(6), int64(1), object(8)\n",
      "memory usage: 1.6+ MB\n"
     ]
    }
   ],
   "source": [
    "df0.info()"
   ]
  },
  {
   "cell_type": "code",
   "execution_count": 20,
   "id": "e1d40d4b",
   "metadata": {},
   "outputs": [
    {
     "data": {
      "text/plain": [
       "array(['N ', 'U ', 'H ', 'N', 'U', 'H'], dtype=object)"
      ]
     },
     "execution_count": 20,
     "metadata": {},
     "output_type": "execute_result"
    }
   ],
   "source": [
    "df0[\"ETHNICITY\"].unique()"
   ]
  },
  {
   "cell_type": "code",
   "execution_count": 21,
   "id": "b8459adb",
   "metadata": {},
   "outputs": [],
   "source": [
    "df0[\"ETHNICITY\"] = df0[\"ETHNICITY\"].apply(lambda x: x.split(\" \")[0])"
   ]
  },
  {
   "cell_type": "code",
   "execution_count": 22,
   "id": "96240ac0",
   "metadata": {},
   "outputs": [
    {
     "data": {
      "text/plain": [
       "array(['N', 'U', 'H'], dtype=object)"
      ]
     },
     "execution_count": 22,
     "metadata": {},
     "output_type": "execute_result"
    }
   ],
   "source": [
    "df0[\"ETHNICITY\"].unique()"
   ]
  },
  {
   "cell_type": "code",
   "execution_count": 23,
   "id": "b0dd7a8d",
   "metadata": {},
   "outputs": [
    {
     "data": {
      "text/plain": [
       "array(['B ', 'U', 'W ', 'A ', 'B', 'W', 'A', 'P'], dtype=object)"
      ]
     },
     "execution_count": 23,
     "metadata": {},
     "output_type": "execute_result"
    }
   ],
   "source": [
    "df0[\"RACE\"].unique()"
   ]
  },
  {
   "cell_type": "code",
   "execution_count": 24,
   "id": "b3115431",
   "metadata": {},
   "outputs": [],
   "source": [
    "df0[\"RACE\"] = df0[\"RACE\"].apply(lambda x: x.split(\" \")[0])"
   ]
  },
  {
   "cell_type": "code",
   "execution_count": 25,
   "id": "80cb90ea",
   "metadata": {},
   "outputs": [
    {
     "data": {
      "text/plain": [
       "array(['B', 'U', 'W', 'A', 'P'], dtype=object)"
      ]
     },
     "execution_count": 25,
     "metadata": {},
     "output_type": "execute_result"
    }
   ],
   "source": [
    "df0[\"RACE\"].unique()"
   ]
  },
  {
   "cell_type": "code",
   "execution_count": 37,
   "id": "7a08a2dc",
   "metadata": {},
   "outputs": [],
   "source": [
    "df0[\"RACE\"] = df0[\"RACE\"].apply(lambda x: np.nan if x==\"U\" else x)"
   ]
  },
  {
   "cell_type": "code",
   "execution_count": 38,
   "id": "9bce9c50",
   "metadata": {},
   "outputs": [],
   "source": [
    "df0[\"ETHNICITY\"] = df0[\"ETHNICITY\"].apply(lambda x: np.nan if x==\"U\" else x)"
   ]
  },
  {
   "cell_type": "code",
   "execution_count": 47,
   "id": "75851d1e",
   "metadata": {},
   "outputs": [],
   "source": [
    "df0[\"ADULT_JUVENILE\"] = df0[\"ADULT_JUVENILE\"].apply(lambda x: np.nan if x==\"Unknown\" else x)"
   ]
  },
  {
   "cell_type": "code",
   "execution_count": 58,
   "id": "eefce8dd",
   "metadata": {},
   "outputs": [
    {
     "data": {
      "text/plain": [
       "(12508, 18)"
      ]
     },
     "execution_count": 58,
     "metadata": {},
     "output_type": "execute_result"
    }
   ],
   "source": [
    "df0.shape"
   ]
  },
  {
   "cell_type": "code",
   "execution_count": 60,
   "id": "1e0de1fe",
   "metadata": {
    "scrolled": true
   },
   "outputs": [],
   "source": [
    "df0 = df0[~(df0.isnull().sum(axis=1)>=5)]"
   ]
  },
  {
   "cell_type": "code",
   "execution_count": 61,
   "id": "0f56d5c4",
   "metadata": {},
   "outputs": [
    {
     "data": {
      "text/plain": [
       "(12492, 18)"
      ]
     },
     "execution_count": 61,
     "metadata": {},
     "output_type": "execute_result"
    }
   ],
   "source": [
    "df0.shape"
   ]
  },
  {
   "cell_type": "code",
   "execution_count": 76,
   "id": "284f3377",
   "metadata": {},
   "outputs": [
    {
     "name": "stderr",
     "output_type": "stream",
     "text": [
      "C:\\Users\\Manoj Raj S\\AppData\\Local\\Temp\\ipykernel_10380\\930752012.py:1: SettingWithCopyWarning: \n",
      "A value is trying to be set on a copy of a slice from a DataFrame.\n",
      "Try using .loc[row_indexer,col_indexer] = value instead\n",
      "\n",
      "See the caveats in the documentation: https://pandas.pydata.org/pandas-docs/stable/user_guide/indexing.html#returning-a-view-versus-a-copy\n",
      "  df0[\"Month\"] = pd.to_datetime(df0[\"DATETIME\"]).dt.month_name()\n"
     ]
    }
   ],
   "source": [
    "df0[\"Month\"] = pd.to_datetime(df0[\"DATETIME\"]).dt.month_name()"
   ]
  },
  {
   "cell_type": "code",
   "execution_count": 84,
   "id": "949b442e",
   "metadata": {},
   "outputs": [
    {
     "data": {
      "text/html": [
       "<div>\n",
       "<style scoped>\n",
       "    .dataframe tbody tr th:only-of-type {\n",
       "        vertical-align: middle;\n",
       "    }\n",
       "\n",
       "    .dataframe tbody tr th {\n",
       "        vertical-align: top;\n",
       "    }\n",
       "\n",
       "    .dataframe thead th {\n",
       "        text-align: right;\n",
       "    }\n",
       "</style>\n",
       "<table border=\"1\" class=\"dataframe\">\n",
       "  <thead>\n",
       "    <tr style=\"text-align: right;\">\n",
       "      <th></th>\n",
       "      <th>TYPE</th>\n",
       "      <th>ADULT_JUVENILE</th>\n",
       "      <th>YEAR</th>\n",
       "      <th>DATETIME</th>\n",
       "      <th>CCN</th>\n",
       "      <th>AGE</th>\n",
       "      <th>OFFENSE_DISTRICT</th>\n",
       "      <th>OFFENSE_PSA</th>\n",
       "      <th>OFFENSE_BLOCKX</th>\n",
       "      <th>OFFENSE_BLOCKY</th>\n",
       "      <th>RACE</th>\n",
       "      <th>ETHNICITY</th>\n",
       "      <th>SEX</th>\n",
       "      <th>DESCRIPTION</th>\n",
       "      <th>ADDRESS</th>\n",
       "      <th>ARREST_BLOCKX</th>\n",
       "      <th>ARREST_BLOCKY</th>\n",
       "      <th>Age_range</th>\n",
       "      <th>Month</th>\n",
       "    </tr>\n",
       "  </thead>\n",
       "  <tbody>\n",
       "    <tr>\n",
       "      <th>0</th>\n",
       "      <td>Possession</td>\n",
       "      <td>Adult</td>\n",
       "      <td>2012</td>\n",
       "      <td>2012-01-01 06:00:00+00:00</td>\n",
       "      <td>b';\\xc8k~\\xa4iJ'</td>\n",
       "      <td>20.0</td>\n",
       "      <td>5D</td>\n",
       "      <td>501.0</td>\n",
       "      <td>399700.0</td>\n",
       "      <td>137900.0</td>\n",
       "      <td>B</td>\n",
       "      <td>N</td>\n",
       "      <td>F</td>\n",
       "      <td>Ucsa Possession Marijuana</td>\n",
       "      <td>FLORIDA AVE NE</td>\n",
       "      <td>401400.0</td>\n",
       "      <td>136900.0</td>\n",
       "      <td>&lt;20</td>\n",
       "      <td>January</td>\n",
       "    </tr>\n",
       "    <tr>\n",
       "      <th>1</th>\n",
       "      <td>Possession</td>\n",
       "      <td>Adult</td>\n",
       "      <td>2012</td>\n",
       "      <td>2012-01-01 06:00:00+00:00</td>\n",
       "      <td>b';\\xc8k~\\xa4iJ'</td>\n",
       "      <td>23.0</td>\n",
       "      <td>5D</td>\n",
       "      <td>501.0</td>\n",
       "      <td>399700.0</td>\n",
       "      <td>137900.0</td>\n",
       "      <td>B</td>\n",
       "      <td>N</td>\n",
       "      <td>M</td>\n",
       "      <td>Ucsa Possession Marijuana</td>\n",
       "      <td>FLORIDA AVE NE</td>\n",
       "      <td>401400.0</td>\n",
       "      <td>136900.0</td>\n",
       "      <td>20-40</td>\n",
       "      <td>January</td>\n",
       "    </tr>\n",
       "    <tr>\n",
       "      <th>2</th>\n",
       "      <td>Possession</td>\n",
       "      <td>Adult</td>\n",
       "      <td>2012</td>\n",
       "      <td>2012-01-01 06:00:00+00:00</td>\n",
       "      <td>b't6\\xa0\\xac\\xec`\\xa4'</td>\n",
       "      <td>46.0</td>\n",
       "      <td>7D</td>\n",
       "      <td>707.0</td>\n",
       "      <td>399700.0</td>\n",
       "      <td>130600.0</td>\n",
       "      <td>B</td>\n",
       "      <td>N</td>\n",
       "      <td>M</td>\n",
       "      <td>Ucsa Possession Marijuana</td>\n",
       "      <td>3300 BLOCK OF BROTHERS PL SE</td>\n",
       "      <td>399700.0</td>\n",
       "      <td>130600.0</td>\n",
       "      <td>40-60</td>\n",
       "      <td>January</td>\n",
       "    </tr>\n",
       "    <tr>\n",
       "      <th>3</th>\n",
       "      <td>Possession</td>\n",
       "      <td>Adult</td>\n",
       "      <td>2012</td>\n",
       "      <td>2012-01-01 09:35:00+00:00</td>\n",
       "      <td>b'\\xbe\\x1d\\xa7\\xf5\\xffWx'</td>\n",
       "      <td>30.0</td>\n",
       "      <td>6D</td>\n",
       "      <td>605.0</td>\n",
       "      <td>403300.0</td>\n",
       "      <td>134500.0</td>\n",
       "      <td>B</td>\n",
       "      <td>NaN</td>\n",
       "      <td>M</td>\n",
       "      <td>Ucsa Possession Marijuana</td>\n",
       "      <td>700 BLOCK OF 32ND ST SE</td>\n",
       "      <td>NaN</td>\n",
       "      <td>NaN</td>\n",
       "      <td>20-40</td>\n",
       "      <td>January</td>\n",
       "    </tr>\n",
       "    <tr>\n",
       "      <th>4</th>\n",
       "      <td>Possession with intent to distribute</td>\n",
       "      <td>Adult</td>\n",
       "      <td>2012</td>\n",
       "      <td>2012-01-02 19:40:00+00:00</td>\n",
       "      <td>b'\\xbb\\xc0\\x8e\\x94\\x81\\xac\\xcd'</td>\n",
       "      <td>29.0</td>\n",
       "      <td>6D</td>\n",
       "      <td>604.0</td>\n",
       "      <td>406400.0</td>\n",
       "      <td>135300.0</td>\n",
       "      <td>NaN</td>\n",
       "      <td>NaN</td>\n",
       "      <td>M</td>\n",
       "      <td>Ucsa Pwid Marijuana</td>\n",
       "      <td>5300 BLOCK OF B ST SE</td>\n",
       "      <td>NaN</td>\n",
       "      <td>NaN</td>\n",
       "      <td>20-40</td>\n",
       "      <td>January</td>\n",
       "    </tr>\n",
       "  </tbody>\n",
       "</table>\n",
       "</div>"
      ],
      "text/plain": [
       "                                   TYPE ADULT_JUVENILE  YEAR  \\\n",
       "0                            Possession          Adult  2012   \n",
       "1                            Possession          Adult  2012   \n",
       "2                            Possession          Adult  2012   \n",
       "3                            Possession          Adult  2012   \n",
       "4  Possession with intent to distribute          Adult  2012   \n",
       "\n",
       "                   DATETIME                              CCN   AGE  \\\n",
       "0 2012-01-01 06:00:00+00:00                 b';\\xc8k~\\xa4iJ'  20.0   \n",
       "1 2012-01-01 06:00:00+00:00                 b';\\xc8k~\\xa4iJ'  23.0   \n",
       "2 2012-01-01 06:00:00+00:00           b't6\\xa0\\xac\\xec`\\xa4'  46.0   \n",
       "3 2012-01-01 09:35:00+00:00        b'\\xbe\\x1d\\xa7\\xf5\\xffWx'  30.0   \n",
       "4 2012-01-02 19:40:00+00:00  b'\\xbb\\xc0\\x8e\\x94\\x81\\xac\\xcd'  29.0   \n",
       "\n",
       "  OFFENSE_DISTRICT  OFFENSE_PSA  OFFENSE_BLOCKX  OFFENSE_BLOCKY RACE  \\\n",
       "0               5D        501.0        399700.0        137900.0    B   \n",
       "1               5D        501.0        399700.0        137900.0    B   \n",
       "2               7D        707.0        399700.0        130600.0    B   \n",
       "3               6D        605.0        403300.0        134500.0    B   \n",
       "4               6D        604.0        406400.0        135300.0  NaN   \n",
       "\n",
       "  ETHNICITY SEX                DESCRIPTION                       ADDRESS  \\\n",
       "0         N   F  Ucsa Possession Marijuana                FLORIDA AVE NE   \n",
       "1         N   M  Ucsa Possession Marijuana                FLORIDA AVE NE   \n",
       "2         N   M  Ucsa Possession Marijuana  3300 BLOCK OF BROTHERS PL SE   \n",
       "3       NaN   M  Ucsa Possession Marijuana       700 BLOCK OF 32ND ST SE   \n",
       "4       NaN   M        Ucsa Pwid Marijuana         5300 BLOCK OF B ST SE   \n",
       "\n",
       "   ARREST_BLOCKX  ARREST_BLOCKY Age_range    Month  \n",
       "0       401400.0       136900.0       <20  January  \n",
       "1       401400.0       136900.0     20-40  January  \n",
       "2       399700.0       130600.0     40-60  January  \n",
       "3            NaN            NaN     20-40  January  \n",
       "4            NaN            NaN     20-40  January  "
      ]
     },
     "execution_count": 84,
     "metadata": {},
     "output_type": "execute_result"
    }
   ],
   "source": [
    "df0.head()"
   ]
  },
  {
   "cell_type": "markdown",
   "id": "074ff804",
   "metadata": {},
   "source": [
    "### Univariate Analysis"
   ]
  },
  {
   "cell_type": "code",
   "execution_count": 63,
   "id": "1cca29f2",
   "metadata": {},
   "outputs": [
    {
     "data": {
      "image/png": "[encoded data removed]",
      "text/plain": [
       "<Figure size 640x480 with 1 Axes>"
      ]
     },
     "metadata": {},
     "output_type": "display_data"
    }
   ],
   "source": [
    "## Highest age group invovled in crime\n",
    "df0.Age_range.value_counts(normalize=True).plot.bar()\n",
    "plt.show()"
   ]
  },
  {
   "cell_type": "markdown",
   "id": "1e285f02",
   "metadata": {},
   "source": [
    "#### more than 60% of people belong to 20-40 Age group"
   ]
  },
  {
   "cell_type": "code",
   "execution_count": 66,
   "id": "f464288c",
   "metadata": {},
   "outputs": [
    {
     "data": {
      "image/png": "[encoded data removed]",
      "text/plain": [
       "<Figure size 640x480 with 1 Axes>"
      ]
     },
     "metadata": {},
     "output_type": "display_data"
    }
   ],
   "source": [
    "## Highest number of crime\n",
    "df0.TYPE.value_counts(normalize=True).plot.bar()\n",
    "plt.show()"
   ]
  },
  {
   "cell_type": "markdown",
   "id": "7c013ed7",
   "metadata": {},
   "source": [
    "#### Nearly 50% of people invovled in drug possession, 30% in possession & distribution"
   ]
  },
  {
   "cell_type": "code",
   "execution_count": 90,
   "id": "b94d677a",
   "metadata": {},
   "outputs": [
    {
     "data": {
      "image/png": "[encoded data removed]",
      "text/plain": [
       "<Figure size 640x480 with 1 Axes>"
      ]
     },
     "metadata": {},
     "output_type": "display_data"
    }
   ],
   "source": [
    "df0.YEAR.value_counts(normalize=True).plot.bar()\n",
    "plt.show()"
   ]
  },
  {
   "cell_type": "markdown",
   "id": "0f22632f",
   "metadata": {},
   "source": [
    "#### Majority of the cases got arrested on 2012,2013,2014"
   ]
  },
  {
   "cell_type": "code",
   "execution_count": 79,
   "id": "4ce296b7",
   "metadata": {},
   "outputs": [
    {
     "data": {
      "image/png": "[encoded data removed]",
      "text/plain": [
       "<Figure size 640x480 with 1 Axes>"
      ]
     },
     "metadata": {},
     "output_type": "display_data"
    }
   ],
   "source": [
    "df0.Month.value_counts().plot.bar()\n",
    "plt.show()"
   ]
  },
  {
   "cell_type": "markdown",
   "id": "cdd75997",
   "metadata": {},
   "source": [
    "#### Drug arrests were usually high on first 3 quarters of the year compared to last"
   ]
  },
  {
   "cell_type": "code",
   "execution_count": 83,
   "id": "844d1b80",
   "metadata": {},
   "outputs": [
    {
     "data": {
      "image/png": "[encoded data removed]",
      "text/plain": [
       "<Figure size 640x480 with 1 Axes>"
      ]
     },
     "metadata": {},
     "output_type": "display_data"
    }
   ],
   "source": [
    "df0.OFFENSE_DISTRICT.value_counts().plot.bar()\n",
    "plt.show()"
   ]
  },
  {
   "cell_type": "markdown",
   "id": "d3ed67e1",
   "metadata": {},
   "source": [
    "#### Drug cases were majorly reported in 7D,6D,3D,5D districts"
   ]
  },
  {
   "cell_type": "code",
   "execution_count": 87,
   "id": "c51644a2",
   "metadata": {},
   "outputs": [
    {
     "data": {
      "image/png": "[encoded data removed]",
      "text/plain": [
       "<Figure size 640x480 with 1 Axes>"
      ]
     },
     "metadata": {},
     "output_type": "display_data"
    }
   ],
   "source": [
    "df0.SEX.value_counts(normalize=True).plot.bar()\n",
    "plt.show()"
   ]
  },
  {
   "cell_type": "markdown",
   "id": "fb355df7",
   "metadata": {},
   "source": [
    "#### Majority of the accused people are of Male compared to Female"
   ]
  },
  {
   "cell_type": "code",
   "execution_count": 96,
   "id": "a28aba52",
   "metadata": {},
   "outputs": [
    {
     "name": "stderr",
     "output_type": "stream",
     "text": [
      "C:\\Users\\Manoj Raj S\\AppData\\Local\\Temp\\ipykernel_10380\\1752919194.py:1: SettingWithCopyWarning: \n",
      "A value is trying to be set on a copy of a slice from a DataFrame.\n",
      "Try using .loc[row_indexer,col_indexer] = value instead\n",
      "\n",
      "See the caveats in the documentation: https://pandas.pydata.org/pandas-docs/stable/user_guide/indexing.html#returning-a-view-versus-a-copy\n",
      "  df0[\"Hours\"] = df0[\"DATETIME\"].dt.hour\n"
     ]
    }
   ],
   "source": [
    "df0[\"Hours\"] = df0[\"DATETIME\"].dt.hour"
   ]
  },
  {
   "cell_type": "code",
   "execution_count": 102,
   "id": "7f374db2",
   "metadata": {},
   "outputs": [],
   "source": [
    "x = df0[\"Hours\"].value_counts().sort_index()"
   ]
  },
  {
   "cell_type": "code",
   "execution_count": 103,
   "id": "e87897a6",
   "metadata": {},
   "outputs": [
    {
     "data": {
      "image/png": "[encoded data removed]",
      "text/plain": [
       "<Figure size 640x480 with 1 Axes>"
      ]
     },
     "metadata": {},
     "output_type": "display_data"
    }
   ],
   "source": [
    "x.plot.bar()\n",
    "plt.show()"
   ]
  },
  {
   "cell_type": "markdown",
   "id": "8380b798",
   "metadata": {},
   "source": [
    "#### Arrests across the day"
   ]
  },
  {
   "cell_type": "markdown",
   "id": "1dfadb4e",
   "metadata": {},
   "source": [
    "### Bivariate Analysis"
   ]
  },
  {
   "cell_type": "code",
   "execution_count": 93,
   "id": "2f36bbab",
   "metadata": {},
   "outputs": [
    {
     "data": {
      "image/png": "[encoded data removed]",
      "text/plain": [
       "<Figure size 640x480 with 1 Axes>"
      ]
     },
     "metadata": {},
     "output_type": "display_data"
    }
   ],
   "source": [
    "arrests_by_demographics = df0.groupby(['RACE', 'ETHNICITY']).size().unstack()\n",
    "arrests_by_demographics.plot(kind='bar', stacked=True)\n",
    "plt.xlabel('Race')\n",
    "plt.ylabel('Number of Arrests')\n",
    "plt.title('Racial and Ethnic Composition of Arrestees')\n",
    "plt.legend(title='Ethnicity')\n",
    "plt.show()"
   ]
  },
  {
   "cell_type": "code",
   "execution_count": null,
   "id": "8ac13432",
   "metadata": {},
   "outputs": [],
   "source": []
  }
 ],
 "metadata": {
  "kernelspec": {
   "display_name": "Python 3 (ipykernel)",
   "language": "python",
   "name": "python3"
  },
  "language_info": {
   "codemirror_mode": {
    "name": "ipython",
    "version": 3
   },
   "file_extension": ".py",
   "mimetype": "text/x-python",
   "name": "python",
   "nbconvert_exporter": "python",
   "pygments_lexer": "ipython3",
   "version": "3.10.9"
  }
 },
 "nbformat": 4,
 "nbformat_minor": 5
}
